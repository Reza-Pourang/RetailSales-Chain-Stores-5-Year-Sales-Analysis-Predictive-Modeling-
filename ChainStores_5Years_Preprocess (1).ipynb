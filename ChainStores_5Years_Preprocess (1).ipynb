{
  "nbformat": 4,
  "nbformat_minor": 0,
  "metadata": {
    "colab": {
      "provenance": []
    },
    "kernelspec": {
      "name": "python3",
      "display_name": "Python 3"
    },
    "language_info": {
      "name": "python"
    }
  },
  "cells": [
    {
      "cell_type": "code",
      "execution_count": null,
      "metadata": {
        "colab": {
          "base_uri": "https://localhost:8080/"
        },
        "id": "rFhq6tcv9yoE",
        "outputId": "bc1c0071-2532-47ee-cae7-db4f50d09e52"
      },
      "outputs": [
        {
          "output_type": "stream",
          "name": "stdout",
          "text": [
            "Mounted at /content/drive\n"
          ]
        }
      ],
      "source": [
        "#Import necessary libraries\n",
        "import numpy as np\n",
        "import pandas as pd\n",
        "\n",
        "#Load the datasets and Create an ExcelFile object\n",
        "from google.colab import drive\n",
        "drive.mount('/content/drive')\n",
        "Data = pd.read_excel('/content/drive/MyDrive/Colab Notebooks/RozhinChainStores.xlsx')"
      ]
    },
    {
      "cell_type": "code",
      "source": [
        "#Initial check\n",
        "print(Data.head(5))\n",
        "print('\\n')\n",
        "print(Data.dtypes)\n",
        "print('\\n')\n",
        "print(Data.info())\n",
        "print('\\n')\n",
        "print(Data.isnull().sum())\n",
        "print('\\n')\n",
        "print(Data.duplicated().sum())"
      ],
      "metadata": {
        "colab": {
          "base_uri": "https://localhost:8080/"
        },
        "id": "mFQbt7Xr_F3G",
        "outputId": "da5aa332-7468-4050-d533-6e35e2a26488"
      },
      "execution_count": null,
      "outputs": [
        {
          "output_type": "stream",
          "name": "stdout",
          "text": [
            "  شماره فاکتور  تاریخ فروش   کد مشتری                    نام مشتری  \\\n",
            "0            1  1399/02/03  1010005.0  فروشگاه زنجيره اي افق کوروش   \n",
            "1            1  1399/02/03  1010005.0  فروشگاه زنجيره اي افق کوروش   \n",
            "2            2  1399/02/03  1010004.0  فروشگاه زنجيره اي افق کوروش   \n",
            "3            2  1399/02/03  1010004.0  فروشگاه زنجيره اي افق کوروش   \n",
            "4            3  1399/02/03  1010002.0  فروشگاه زنجيره اي افق کوروش   \n",
            "\n",
            "               نام فروشگاه  کد فروشنده                       فروشنده  \\\n",
            "0  فروشگاه افق کوروش کرمان   1400059.0  فروشنده فروشگاههاي زنجيره اي   \n",
            "1  فروشگاه افق کوروش کرمان   1400059.0  فروشنده فروشگاههاي زنجيره اي   \n",
            "2   فروشگاه افق کوروش مشهد   1400059.0  فروشنده فروشگاههاي زنجيره اي   \n",
            "3   فروشگاه افق کوروش مشهد   1400059.0  فروشنده فروشگاههاي زنجيره اي   \n",
            "4  فروشگاه افق کوروش اهواز   1400059.0  فروشنده فروشگاههاي زنجيره اي   \n",
            "\n",
            "             گروه کالا    کد کالا  \\\n",
            "0               سس گرم  1102001.0   \n",
            "1  رب گوجه فرنگي روژين  1101002.0   \n",
            "2  رب گوجه فرنگي روژين  1101002.0   \n",
            "3               سس گرم  1102001.0   \n",
            "4  رب گوجه فرنگي روژين  1101002.0   \n",
            "\n",
            "                                        نام کالا  ... مبلغ اضافه  \\\n",
            "0                       سس بطري کچاپ ساده460گرمي  ...     963081   \n",
            "1  رب گوجه فرنگي قرمز آسان بازشو روژين  800 گرمي  ...   17102454   \n",
            "2  رب گوجه فرنگي قرمز آسان بازشو روژين  800 گرمي  ...   14964646   \n",
            "3                       سس بطري کچاپ ساده460گرمي  ...    3691810   \n",
            "4  رب گوجه فرنگي قرمز آسان بازشو روژين  800 گرمي  ...   29929294   \n",
            "\n",
            "  ناخالص فروش با کسر تخفیف مبلغ فروش خالص تخفيف تجاري تخفيف حجمي تخفيف نقدي  \\\n",
            "0                 10700905       11663986           0   10380695          0   \n",
            "1                190027273      207129727           0   84148727          0   \n",
            "2                166273864      181238510           0   73630136          0   \n",
            "3                 41020133       44711943           0   39792667          0   \n",
            "4                332547728      362477022           0  147260272          0   \n",
            "\n",
            "  ارزش افزوده    عوارض     سال       ماه  \n",
            "0      642054   321027  1399.0  ارديبهشت  \n",
            "1    11401636  5700818  1399.0  ارديبهشت  \n",
            "2     9976431  4988215  1399.0  ارديبهشت  \n",
            "3     2461207  1230603  1399.0  ارديبهشت  \n",
            "4    19952863  9976431  1399.0  ارديبهشت  \n",
            "\n",
            "[5 rows x 24 columns]\n",
            "\n",
            "\n",
            "شماره فاکتور                 object\n",
            "تاریخ فروش                   object\n",
            "کد مشتری                    float64\n",
            "نام مشتری                    object\n",
            "نام فروشگاه                  object\n",
            "کد فروشنده                  float64\n",
            "فروشنده                      object\n",
            "گروه کالا                    object\n",
            "کد کالا                     float64\n",
            "نام کالا                     object\n",
            "تعداد فروش و جایزه-کارتن     object\n",
            "تعداد فروش و جایزه-ظرف       object\n",
            "قیمت واحد                    object\n",
            "مبلغ فروش ناخالص             object\n",
            "مبلغ اضافه                   object\n",
            "ناخالص فروش با کسر تخفیف     object\n",
            "مبلغ فروش خالص               object\n",
            "تخفيف تجاري                  object\n",
            "تخفيف حجمي                   object\n",
            "تخفيف نقدي                   object\n",
            "ارزش افزوده                  object\n",
            "عوارض                        object\n",
            "سال                         float64\n",
            "ماه                          object\n",
            "dtype: object\n",
            "\n",
            "\n",
            "<class 'pandas.core.frame.DataFrame'>\n",
            "RangeIndex: 80163 entries, 0 to 80162\n",
            "Data columns (total 24 columns):\n",
            " #   Column                    Non-Null Count  Dtype  \n",
            "---  ------                    --------------  -----  \n",
            " 0   شماره فاکتور              80163 non-null  object \n",
            " 1   تاریخ فروش                80162 non-null  object \n",
            " 2   کد مشتری                  80162 non-null  float64\n",
            " 3   نام مشتری                 80162 non-null  object \n",
            " 4   نام فروشگاه               80162 non-null  object \n",
            " 5   کد فروشنده                80162 non-null  float64\n",
            " 6   فروشنده                   80162 non-null  object \n",
            " 7   گروه کالا                 80162 non-null  object \n",
            " 8   کد کالا                   80162 non-null  float64\n",
            " 9   نام کالا                  80162 non-null  object \n",
            " 10  تعداد فروش و جایزه-کارتن  80163 non-null  object \n",
            " 11  تعداد فروش و جایزه-ظرف    80163 non-null  object \n",
            " 12  قیمت واحد                 80163 non-null  object \n",
            " 13  مبلغ فروش ناخالص          80163 non-null  object \n",
            " 14  مبلغ اضافه                80163 non-null  object \n",
            " 15  ناخالص فروش با کسر تخفیف  80163 non-null  object \n",
            " 16  مبلغ فروش خالص            80163 non-null  object \n",
            " 17  تخفيف تجاري               80163 non-null  object \n",
            " 18  تخفيف حجمي                80163 non-null  object \n",
            " 19  تخفيف نقدي                80163 non-null  object \n",
            " 20  ارزش افزوده               80163 non-null  object \n",
            " 21  عوارض                     80163 non-null  object \n",
            " 22  سال                       80162 non-null  float64\n",
            " 23  ماه                       80162 non-null  object \n",
            "dtypes: float64(4), object(20)\n",
            "memory usage: 14.7+ MB\n",
            "None\n",
            "\n",
            "\n",
            "شماره فاکتور                0\n",
            "تاریخ فروش                  1\n",
            "کد مشتری                    1\n",
            "نام مشتری                   1\n",
            "نام فروشگاه                 1\n",
            "کد فروشنده                  1\n",
            "فروشنده                     1\n",
            "گروه کالا                   1\n",
            "کد کالا                     1\n",
            "نام کالا                    1\n",
            "تعداد فروش و جایزه-کارتن    0\n",
            "تعداد فروش و جایزه-ظرف      0\n",
            "قیمت واحد                   0\n",
            "مبلغ فروش ناخالص            0\n",
            "مبلغ اضافه                  0\n",
            "ناخالص فروش با کسر تخفیف    0\n",
            "مبلغ فروش خالص              0\n",
            "تخفيف تجاري                 0\n",
            "تخفيف حجمي                  0\n",
            "تخفيف نقدي                  0\n",
            "ارزش افزوده                 0\n",
            "عوارض                       0\n",
            "سال                         1\n",
            "ماه                         1\n",
            "dtype: int64\n",
            "\n",
            "\n",
            "0\n"
          ]
        }
      ]
    },
    {
      "cell_type": "code",
      "source": [
        "#Preprocessing - chose the valuable columns\n",
        "\n",
        "SelectedColumns = [ 'کد مشتری', 'کد فروشنده', 'کد کالا', 'نام مشتری', 'نام فروشگاه',\n",
        "                    'فروشنده', 'نام کالا', 'گروه کالا', 'ماه', 'سال', 'مبلغ فروش خالص',\n",
        "                    'قیمت واحد', 'تعداد فروش و جایزه-ظرف', 'تعداد فروش و جایزه-کارتن' ]\n",
        "\n",
        "NewData = Data[SelectedColumns]\n",
        "print(NewData.info())"
      ],
      "metadata": {
        "colab": {
          "base_uri": "https://localhost:8080/"
        },
        "id": "PBLTG58o_Pc4",
        "outputId": "072a3db8-9070-450e-ceb2-5156cc4cc386"
      },
      "execution_count": null,
      "outputs": [
        {
          "output_type": "stream",
          "name": "stdout",
          "text": [
            "<class 'pandas.core.frame.DataFrame'>\n",
            "RangeIndex: 80163 entries, 0 to 80162\n",
            "Data columns (total 14 columns):\n",
            " #   Column                    Non-Null Count  Dtype  \n",
            "---  ------                    --------------  -----  \n",
            " 0   کد مشتری                  80162 non-null  float64\n",
            " 1   کد فروشنده                80162 non-null  float64\n",
            " 2   کد کالا                   80162 non-null  float64\n",
            " 3   نام مشتری                 80162 non-null  object \n",
            " 4   نام فروشگاه               80162 non-null  object \n",
            " 5   فروشنده                   80162 non-null  object \n",
            " 6   نام کالا                  80162 non-null  object \n",
            " 7   گروه کالا                 80162 non-null  object \n",
            " 8   ماه                       80162 non-null  object \n",
            " 9   سال                       80162 non-null  float64\n",
            " 10  مبلغ فروش خالص            80163 non-null  object \n",
            " 11  قیمت واحد                 80163 non-null  object \n",
            " 12  تعداد فروش و جایزه-ظرف    80163 non-null  object \n",
            " 13  تعداد فروش و جایزه-کارتن  80163 non-null  object \n",
            "dtypes: float64(4), object(10)\n",
            "memory usage: 8.6+ MB\n",
            "None\n"
          ]
        }
      ]
    },
    {
      "cell_type": "code",
      "source": [
        "#Preprocessing - rename the headers\n",
        "\n",
        "NewData.rename(columns={\n",
        "               'کد مشتری': 'CustomerCode',\n",
        "               'کد فروشنده': 'SellerCode',\n",
        "               'کد کالا': 'ProductCode',\n",
        "               'نام مشتری': 'CustomerName',\n",
        "               'نام فروشگاه': 'StoreName',\n",
        "               'فروشنده': 'SellerName',\n",
        "               'نام کالا': 'ProductName',\n",
        "               'گروه کالا': 'ProductGroup',\n",
        "               'ماه': 'Month',\n",
        "               'سال': 'Year',\n",
        "               'مبلغ فروش خالص': 'NetSales',\n",
        "               'قیمت واحد': 'UnitPrice',\n",
        "               'تعداد فروش و جایزه-ظرف': 'Units',\n",
        "               'تعداد فروش و جایزه-کارتن': 'Cartons'\n",
        "               }, inplace=True)\n",
        "\n",
        "print(NewData.info())"
      ],
      "metadata": {
        "colab": {
          "base_uri": "https://localhost:8080/"
        },
        "id": "i-zHsJHG_koH",
        "outputId": "d33e5beb-249a-4336-9c6b-8a7788efd795"
      },
      "execution_count": null,
      "outputs": [
        {
          "output_type": "stream",
          "name": "stdout",
          "text": [
            "<class 'pandas.core.frame.DataFrame'>\n",
            "RangeIndex: 80163 entries, 0 to 80162\n",
            "Data columns (total 14 columns):\n",
            " #   Column        Non-Null Count  Dtype  \n",
            "---  ------        --------------  -----  \n",
            " 0   CustomerCode  80162 non-null  float64\n",
            " 1   SellerCode    80162 non-null  float64\n",
            " 2   ProductCode   80162 non-null  float64\n",
            " 3   CustomerName  80162 non-null  object \n",
            " 4   StoreName     80162 non-null  object \n",
            " 5   SellerName    80162 non-null  object \n",
            " 6   ProductName   80162 non-null  object \n",
            " 7   ProductGroup  80162 non-null  object \n",
            " 8   Month         80162 non-null  object \n",
            " 9   Year          80162 non-null  float64\n",
            " 10  NetSales      80163 non-null  object \n",
            " 11  UnitPrice     80163 non-null  object \n",
            " 12  Units         80163 non-null  object \n",
            " 13  Cartons       80163 non-null  object \n",
            "dtypes: float64(4), object(10)\n",
            "memory usage: 8.6+ MB\n",
            "None\n"
          ]
        },
        {
          "output_type": "stream",
          "name": "stderr",
          "text": [
            "<ipython-input-4-69ceff86f8b6>:3: SettingWithCopyWarning: \n",
            "A value is trying to be set on a copy of a slice from a DataFrame\n",
            "\n",
            "See the caveats in the documentation: https://pandas.pydata.org/pandas-docs/stable/user_guide/indexing.html#returning-a-view-versus-a-copy\n",
            "  NewData.rename(columns={\n"
          ]
        }
      ]
    },
    {
      "cell_type": "code",
      "source": [
        "#Preprocessing - function to normalize Persian text\n",
        "\n",
        "import re\n",
        "\n",
        "#Function to manage the text\n",
        "def normalize_persian(text):\n",
        "    if not isinstance(text, str):\n",
        "        return None                     #Handle non-string values\n",
        "    text = text.strip()                 #Remove leading/trailing spaces\n",
        "    text = re.sub(r'\\s+', ' ', text)    #Replace multiple spaces with one\n",
        "    text = text.replace('ي', 'ی')       #Convert Arabic \"ي\" to Persian \"ی\"\n",
        "    text = text.replace('ك', 'ک')       #Convert Arabic \"ك\" to Persian \"ک\"\n",
        "    return text\n",
        "\n",
        "PersianMonths = {'فروردین': '01','اردیبهشت': '02','خرداد': '03','تیر': '04',\n",
        "                 'مرداد': '05','شهریور': '06','مهر': '07','آبان': '08',\n",
        "                 'آذر': '09','دی': '10','بهمن': '11','اسفند': '12'}\n",
        "\n",
        "#Normalize and debug 'Month' column\n",
        "NewData['Month'] = NewData['Month'].apply(normalize_persian)\n",
        "NewData['MonthNumeric'] = NewData['Month'].map(PersianMonths)\n",
        "NewData['MonthNumeric'].fillna('Unknown', inplace=True)\n",
        "NewData = NewData[NewData['MonthNumeric'] != 'Unknown']"
      ],
      "metadata": {
        "id": "iRBzuYiO_uxK"
      },
      "execution_count": null,
      "outputs": []
    },
    {
      "cell_type": "code",
      "source": [
        "#Check data\n",
        "print(\"Unique values in 'Month':\")\n",
        "print(NewData['MonthNumeric'].unique())\n",
        "print(NewData.info())"
      ],
      "metadata": {
        "colab": {
          "base_uri": "https://localhost:8080/"
        },
        "id": "fpMnejQy_2Lm",
        "outputId": "ce5251da-0947-40be-f914-091b90d343c4"
      },
      "execution_count": null,
      "outputs": [
        {
          "output_type": "stream",
          "name": "stdout",
          "text": [
            "Unique values in 'Month':\n",
            "['02' '03' '04' '05' '06' '07' '08' '09' '10' '11' '12' '01']\n",
            "<class 'pandas.core.frame.DataFrame'>\n",
            "Index: 80162 entries, 0 to 80161\n",
            "Data columns (total 15 columns):\n",
            " #   Column        Non-Null Count  Dtype  \n",
            "---  ------        --------------  -----  \n",
            " 0   CustomerCode  80162 non-null  float64\n",
            " 1   SellerCode    80162 non-null  float64\n",
            " 2   ProductCode   80162 non-null  float64\n",
            " 3   CustomerName  80162 non-null  object \n",
            " 4   StoreName     80162 non-null  object \n",
            " 5   SellerName    80162 non-null  object \n",
            " 6   ProductName   80162 non-null  object \n",
            " 7   ProductGroup  80162 non-null  object \n",
            " 8   Month         80162 non-null  object \n",
            " 9   Year          80162 non-null  float64\n",
            " 10  NetSales      80162 non-null  object \n",
            " 11  UnitPrice     80162 non-null  object \n",
            " 12  Units         80162 non-null  object \n",
            " 13  Cartons       80162 non-null  object \n",
            " 14  MonthNumeric  80162 non-null  object \n",
            "dtypes: float64(4), object(11)\n",
            "memory usage: 9.8+ MB\n",
            "None\n"
          ]
        }
      ]
    },
    {
      "cell_type": "code",
      "source": [
        "#Preprocessing - reorder rows by year\n",
        "\n",
        "NewData.sort_values(by='Year', ascending=True, inplace=True)\n",
        "print(NewData['Year'].head(30))"
      ],
      "metadata": {
        "colab": {
          "base_uri": "https://localhost:8080/"
        },
        "id": "xcWMPE1TACpt",
        "outputId": "07c24c8c-c846-47ce-d9c0-8521b173c677"
      },
      "execution_count": null,
      "outputs": [
        {
          "output_type": "stream",
          "name": "stdout",
          "text": [
            "0       1399.0\n",
            "8220    1399.0\n",
            "8221    1399.0\n",
            "8222    1399.0\n",
            "8223    1399.0\n",
            "8224    1399.0\n",
            "8225    1399.0\n",
            "8226    1399.0\n",
            "8227    1399.0\n",
            "8228    1399.0\n",
            "8219    1399.0\n",
            "8229    1399.0\n",
            "8231    1399.0\n",
            "8232    1399.0\n",
            "8233    1399.0\n",
            "8234    1399.0\n",
            "8235    1399.0\n",
            "8236    1399.0\n",
            "8237    1399.0\n",
            "8238    1399.0\n",
            "8239    1399.0\n",
            "8230    1399.0\n",
            "8240    1399.0\n",
            "8218    1399.0\n",
            "8216    1399.0\n",
            "8196    1399.0\n",
            "8197    1399.0\n",
            "8198    1399.0\n",
            "8199    1399.0\n",
            "8200    1399.0\n",
            "Name: Year, dtype: float64\n"
          ]
        }
      ]
    },
    {
      "cell_type": "code",
      "source": [
        "#Preprocessing - define numeric codes for unique values\n",
        "\n",
        "NewData['StoreCode'] = NewData['StoreName'].astype('category').cat.codes\n",
        "NewData['ProductGroupCode'] = NewData['ProductGroup'].astype('category').cat.codes\n",
        "print(NewData.info())"
      ],
      "metadata": {
        "colab": {
          "base_uri": "https://localhost:8080/"
        },
        "id": "owA4t28zAMEG",
        "outputId": "3a9fb271-9ef9-4e3c-8dc0-7abd411b56eb"
      },
      "execution_count": null,
      "outputs": [
        {
          "output_type": "stream",
          "name": "stdout",
          "text": [
            "<class 'pandas.core.frame.DataFrame'>\n",
            "Index: 80162 entries, 0 to 80161\n",
            "Data columns (total 17 columns):\n",
            " #   Column            Non-Null Count  Dtype  \n",
            "---  ------            --------------  -----  \n",
            " 0   CustomerCode      80162 non-null  float64\n",
            " 1   SellerCode        80162 non-null  float64\n",
            " 2   ProductCode       80162 non-null  float64\n",
            " 3   CustomerName      80162 non-null  object \n",
            " 4   StoreName         80162 non-null  object \n",
            " 5   SellerName        80162 non-null  object \n",
            " 6   ProductName       80162 non-null  object \n",
            " 7   ProductGroup      80162 non-null  object \n",
            " 8   Month             80162 non-null  object \n",
            " 9   Year              80162 non-null  float64\n",
            " 10  NetSales          80162 non-null  object \n",
            " 11  UnitPrice         80162 non-null  object \n",
            " 12  Units             80162 non-null  object \n",
            " 13  Cartons           80162 non-null  object \n",
            " 14  MonthNumeric      80162 non-null  object \n",
            " 15  StoreCode         80162 non-null  int16  \n",
            " 16  ProductGroupCode  80162 non-null  int8   \n",
            "dtypes: float64(4), int16(1), int8(1), object(11)\n",
            "memory usage: 10.0+ MB\n",
            "None\n"
          ]
        }
      ]
    },
    {
      "cell_type": "code",
      "source": [
        "#Preprocessing - remove dots in specific columns\n",
        "\n",
        "NewData['Cartons'] = NewData['Cartons'].astype(str).str.replace('.', '', regex=False)\n",
        "NewData['Units'] = NewData['Units'].astype(str).str.replace('.', '', regex=False)\n",
        "\n",
        "print(NewData[['Cartons', 'Units']].head(10))"
      ],
      "metadata": {
        "colab": {
          "base_uri": "https://localhost:8080/"
        },
        "id": "upAuqSIjAUdH",
        "outputId": "e417ba89-67cc-463b-c162-c11e25a7d80c"
      },
      "execution_count": null,
      "outputs": [
        {
          "output_type": "stream",
          "name": "stdout",
          "text": [
            "     Cartons Units\n",
            "0         48   288\n",
            "8220       4    24\n",
            "8221      10   120\n",
            "8222       4    48\n",
            "8223       5    60\n",
            "8224      40   480\n",
            "8225       5    60\n",
            "8226       4    48\n",
            "8227      60   720\n",
            "8228      60   720\n"
          ]
        }
      ]
    },
    {
      "cell_type": "code",
      "source": [
        "#Preprocessing - change types of numeric columns\n",
        "\n",
        "NumericColumns = ['NetSales', 'UnitPrice', 'Units', 'Cartons']\n",
        "\n",
        "for column in NumericColumns:\n",
        "    NewData[column] = pd.to_numeric(NewData[column], errors='coerce')\n",
        "\n",
        "print(NewData.info())"
      ],
      "metadata": {
        "colab": {
          "base_uri": "https://localhost:8080/"
        },
        "id": "BEU4w-tlAeI_",
        "outputId": "200251c5-8a30-4369-be4e-ae94203c060e"
      },
      "execution_count": null,
      "outputs": [
        {
          "output_type": "stream",
          "name": "stdout",
          "text": [
            "<class 'pandas.core.frame.DataFrame'>\n",
            "Index: 80162 entries, 0 to 80161\n",
            "Data columns (total 17 columns):\n",
            " #   Column            Non-Null Count  Dtype  \n",
            "---  ------            --------------  -----  \n",
            " 0   CustomerCode      80162 non-null  float64\n",
            " 1   SellerCode        80162 non-null  float64\n",
            " 2   ProductCode       80162 non-null  float64\n",
            " 3   CustomerName      80162 non-null  object \n",
            " 4   StoreName         80162 non-null  object \n",
            " 5   SellerName        80162 non-null  object \n",
            " 6   ProductName       80162 non-null  object \n",
            " 7   ProductGroup      80162 non-null  object \n",
            " 8   Month             80162 non-null  object \n",
            " 9   Year              80162 non-null  float64\n",
            " 10  NetSales          80162 non-null  int64  \n",
            " 11  UnitPrice         80162 non-null  int64  \n",
            " 12  Units             80162 non-null  int64  \n",
            " 13  Cartons           80162 non-null  int64  \n",
            " 14  MonthNumeric      80162 non-null  object \n",
            " 15  StoreCode         80162 non-null  int16  \n",
            " 16  ProductGroupCode  80162 non-null  int8   \n",
            "dtypes: float64(4), int16(1), int64(4), int8(1), object(7)\n",
            "memory usage: 10.0+ MB\n",
            "None\n"
          ]
        }
      ]
    },
    {
      "cell_type": "code",
      "source": [
        "#Preprocessing - keep identifiers as strings\n",
        "\n",
        "IdentifierColumns = ['CustomerCode', 'SellerCode', 'ProductCode', 'StoreCode', 'ProductGroupCode']\n",
        "\n",
        "for column in IdentifierColumns:\n",
        "    NewData[column] = NewData[column].astype(str)\n",
        "\n",
        "print(NewData.info())"
      ],
      "metadata": {
        "colab": {
          "base_uri": "https://localhost:8080/"
        },
        "id": "kIoW7F5UAkCX",
        "outputId": "fbfbf72b-367f-4775-9ce5-a1456decf6ee"
      },
      "execution_count": null,
      "outputs": [
        {
          "output_type": "stream",
          "name": "stdout",
          "text": [
            "<class 'pandas.core.frame.DataFrame'>\n",
            "Index: 80162 entries, 0 to 80161\n",
            "Data columns (total 17 columns):\n",
            " #   Column            Non-Null Count  Dtype  \n",
            "---  ------            --------------  -----  \n",
            " 0   CustomerCode      80162 non-null  object \n",
            " 1   SellerCode        80162 non-null  object \n",
            " 2   ProductCode       80162 non-null  object \n",
            " 3   CustomerName      80162 non-null  object \n",
            " 4   StoreName         80162 non-null  object \n",
            " 5   SellerName        80162 non-null  object \n",
            " 6   ProductName       80162 non-null  object \n",
            " 7   ProductGroup      80162 non-null  object \n",
            " 8   Month             80162 non-null  object \n",
            " 9   Year              80162 non-null  float64\n",
            " 10  NetSales          80162 non-null  int64  \n",
            " 11  UnitPrice         80162 non-null  int64  \n",
            " 12  Units             80162 non-null  int64  \n",
            " 13  Cartons           80162 non-null  int64  \n",
            " 14  MonthNumeric      80162 non-null  object \n",
            " 15  StoreCode         80162 non-null  object \n",
            " 16  ProductGroupCode  80162 non-null  object \n",
            "dtypes: float64(1), int64(4), object(12)\n",
            "memory usage: 11.0+ MB\n",
            "None\n"
          ]
        }
      ]
    },
    {
      "cell_type": "code",
      "source": [
        "#Preprocessing - convert year and month columns to integers\n",
        "\n",
        "NewData['Year'] = NewData['Year'].astype(int)\n",
        "NewData['MonthNumeric'] = NewData['MonthNumeric'].astype(int)\n",
        "\n",
        "print(NewData.info())"
      ],
      "metadata": {
        "colab": {
          "base_uri": "https://localhost:8080/"
        },
        "id": "R6ldHzIrAt0y",
        "outputId": "d0dac711-e9dd-4e6e-a972-6c7a6968ef3a"
      },
      "execution_count": null,
      "outputs": [
        {
          "output_type": "stream",
          "name": "stdout",
          "text": [
            "<class 'pandas.core.frame.DataFrame'>\n",
            "Index: 80162 entries, 0 to 80161\n",
            "Data columns (total 17 columns):\n",
            " #   Column            Non-Null Count  Dtype \n",
            "---  ------            --------------  ----- \n",
            " 0   CustomerCode      80162 non-null  object\n",
            " 1   SellerCode        80162 non-null  object\n",
            " 2   ProductCode       80162 non-null  object\n",
            " 3   CustomerName      80162 non-null  object\n",
            " 4   StoreName         80162 non-null  object\n",
            " 5   SellerName        80162 non-null  object\n",
            " 6   ProductName       80162 non-null  object\n",
            " 7   ProductGroup      80162 non-null  object\n",
            " 8   Month             80162 non-null  object\n",
            " 9   Year              80162 non-null  int64 \n",
            " 10  NetSales          80162 non-null  int64 \n",
            " 11  UnitPrice         80162 non-null  int64 \n",
            " 12  Units             80162 non-null  int64 \n",
            " 13  Cartons           80162 non-null  int64 \n",
            " 14  MonthNumeric      80162 non-null  int64 \n",
            " 15  StoreCode         80162 non-null  object\n",
            " 16  ProductGroupCode  80162 non-null  object\n",
            "dtypes: int64(6), object(11)\n",
            "memory usage: 11.0+ MB\n",
            "None\n"
          ]
        }
      ]
    },
    {
      "cell_type": "code",
      "source": [
        "#Check data\n",
        "\n",
        "print(NewData.isnull().sum())\n",
        "print('\\n')\n",
        "print(NewData.duplicated().sum())\n",
        "\n",
        "DuplicatesAllColumns = NewData[NewData.duplicated()]\n",
        "\n",
        "KeyColumns = ['CustomerCode', 'SellerCode', 'ProductCode', 'Month', 'Year']\n",
        "DuplicatesKeyColumns = NewData[NewData.duplicated(subset=KeyColumns)]\n",
        "\n",
        "print(\"Duplicates based on all columns:\")\n",
        "print(DuplicatesAllColumns)\n",
        "\n",
        "print(\"\\nDuplicates based on selected key columns:\")\n",
        "print(DuplicatesKeyColumns)"
      ],
      "metadata": {
        "colab": {
          "base_uri": "https://localhost:8080/"
        },
        "id": "BB7iqS1CA0JU",
        "outputId": "e772fb2d-a2ca-4ba9-f9bb-ae066062db1d"
      },
      "execution_count": null,
      "outputs": [
        {
          "output_type": "stream",
          "name": "stdout",
          "text": [
            "CustomerCode        0\n",
            "SellerCode          0\n",
            "ProductCode         0\n",
            "CustomerName        0\n",
            "StoreName           0\n",
            "SellerName          0\n",
            "ProductName         0\n",
            "ProductGroup        0\n",
            "Month               0\n",
            "Year                0\n",
            "NetSales            0\n",
            "UnitPrice           0\n",
            "Units               0\n",
            "Cartons             0\n",
            "MonthNumeric        0\n",
            "StoreCode           0\n",
            "ProductGroupCode    0\n",
            "dtype: int64\n",
            "\n",
            "\n",
            "4690\n",
            "Duplicates based on all columns:\n",
            "      CustomerCode SellerCode ProductCode                   CustomerName  \\\n",
            "8113     1010113.0  1400092.0   1101002.0                      حسن شگفتي   \n",
            "8114     1010113.0  1400092.0   1101006.0                      حسن شگفتي   \n",
            "8116     1010113.0  1400092.0   1102001.0                      حسن شگفتي   \n",
            "8316     1010101.0  1400072.0   1102005.0  فروشگاه زنجيره اي فاميلي مدرن   \n",
            "8317     1010101.0  1400072.0   1101002.0  فروشگاه زنجيره اي فاميلي مدرن   \n",
            "...            ...        ...         ...                            ...   \n",
            "69002    1010615.0  1400063.0   1101008.0    فروشگاه زنجيره اي افق کوروش   \n",
            "69003    1010615.0  1400063.0   1101002.0    فروشگاه زنجيره اي افق کوروش   \n",
            "69007    1010022.0  1400063.0   1101008.0    فروشگاه زنجيره اي افق کوروش   \n",
            "69009    1010020.0  1400063.0   1101008.0    فروشگاه زنجيره اي افق کوروش   \n",
            "69010    1010020.0  1400063.0   1101008.0    فروشگاه زنجيره اي افق کوروش   \n",
            "\n",
            "                              StoreName          SellerName  \\\n",
            "8113                    فروشگاه دي مارت       مهدي عطايي فر   \n",
            "8114                    فروشگاه دي مارت       مهدي عطايي فر   \n",
            "8116                    فروشگاه دي مارت       مهدي عطايي فر   \n",
            "8316   فروشگاه فاميلي مدرن تهران شريعتي       مهناز ميرزائي   \n",
            "8317   فروشگاه فاميلي مدرن تهران شريعتي       مهناز ميرزائي   \n",
            "...                                 ...                 ...   \n",
            "69002      فروشگاه افق کوروش کرمانشاه 2  محسن صفرزاده نيگجه   \n",
            "69003      فروشگاه افق کوروش کرمانشاه 2  محسن صفرزاده نيگجه   \n",
            "69007          فروشگاه افق کوروش فلاحت4  محسن صفرزاده نيگجه   \n",
            "69009         فروشگاه افق کوروش فلاحت 5  محسن صفرزاده نيگجه   \n",
            "69010         فروشگاه افق کوروش فلاحت 5  محسن صفرزاده نيگجه   \n",
            "\n",
            "                                         ProductName         ProductGroup  \\\n",
            "8113   رب گوجه فرنگي قرمز آسان بازشو روژين  800 گرمي  رب گوجه فرنگي روژين   \n",
            "8114               رب گوجه فرنگي روژين شيشه 700 گرمي  رب گوجه فرنگي روژين   \n",
            "8116                        سس بطري کچاپ ساده460گرمي               سس گرم   \n",
            "8316                      سس بطري هزارجزيره 420 گرمي               سس سرد   \n",
            "8317   رب گوجه فرنگي قرمز آسان بازشو روژين  800 گرمي  رب گوجه فرنگي روژين   \n",
            "...                                              ...                  ...   \n",
            "69002              رب گوجه فرنگي روژين شيشه 680 گرمي  رب گوجه فرنگي روژين   \n",
            "69003  رب گوجه فرنگي قرمز آسان بازشو روژين  800 گرمي  رب گوجه فرنگي روژين   \n",
            "69007              رب گوجه فرنگي روژين شيشه 680 گرمي  رب گوجه فرنگي روژين   \n",
            "69009              رب گوجه فرنگي روژين شيشه 680 گرمي  رب گوجه فرنگي روژين   \n",
            "69010              رب گوجه فرنگي روژين شيشه 680 گرمي  رب گوجه فرنگي روژين   \n",
            "\n",
            "       Month  Year   NetSales  UnitPrice  Units  Cartons  MonthNumeric  \\\n",
            "8113     آذر  1399    8380860     158700     60        5             9   \n",
            "8114     آذر  1399    5158116     149000     36        3             9   \n",
            "8116     آذر  1399     453600     106000      6        1             9   \n",
            "8316     آذر  1399     433433     108000      6        1             9   \n",
            "8317     آذر  1399   49586399     158700    360       30             9   \n",
            "...      ...   ...        ...        ...    ...      ...           ...   \n",
            "69002  مرداد  1403  133930170     405849    300       25             5   \n",
            "69003  مرداد  1403  996430248     419373   2160      180             5   \n",
            "69007  مرداد  1403  428576544     405849    960       80             5   \n",
            "69009  مرداد  1403  428576544     405849    960       80             5   \n",
            "69010  مرداد  1403  187502238     405849    420       35             5   \n",
            "\n",
            "      StoreCode ProductGroupCode  \n",
            "8113        277                0  \n",
            "8114        277                0  \n",
            "8116        277                2  \n",
            "8316        647                1  \n",
            "8317        647                0  \n",
            "...         ...              ...  \n",
            "69002       191                0  \n",
            "69003       191                0  \n",
            "69007       182                0  \n",
            "69009       181                0  \n",
            "69010       181                0  \n",
            "\n",
            "[4690 rows x 17 columns]\n",
            "\n",
            "Duplicates based on selected key columns:\n",
            "      CustomerCode SellerCode ProductCode                        CustomerName  \\\n",
            "8113     1010113.0  1400092.0   1101002.0                           حسن شگفتي   \n",
            "8114     1010113.0  1400092.0   1101006.0                           حسن شگفتي   \n",
            "8115     1010113.0  1400092.0   1103004.0                           حسن شگفتي   \n",
            "8116     1010113.0  1400092.0   1102001.0                           حسن شگفتي   \n",
            "8147     1010113.0  1400092.0   1103004.0                           حسن شگفتي   \n",
            "...            ...        ...         ...                                 ...   \n",
            "69011    1010020.0  1400063.0   1101002.0         فروشگاه زنجيره اي افق کوروش   \n",
            "69012    1010004.0  1400063.0   1101008.0         فروشگاه زنجيره اي افق کوروش   \n",
            "69013    1010004.0  1400063.0   1101002.0         فروشگاه زنجيره اي افق کوروش   \n",
            "69020    1010144.0  1400118.0   1104010.0  شرکت بازرگاني سامان انديشان امرتات   \n",
            "69024    1010157.0  1400092.0   1104008.0        شرکت هايپر مارکتهاي ماف پارس   \n",
            "\n",
            "                       StoreName          SellerName  \\\n",
            "8113             فروشگاه دي مارت       مهدي عطايي فر   \n",
            "8114             فروشگاه دي مارت       مهدي عطايي فر   \n",
            "8115             فروشگاه دي مارت       مهدي عطايي فر   \n",
            "8116             فروشگاه دي مارت       مهدي عطايي فر   \n",
            "8147             فروشگاه دي مارت       مهدي عطايي فر   \n",
            "...                          ...                 ...   \n",
            "69011  فروشگاه افق کوروش فلاحت 5  محسن صفرزاده نيگجه   \n",
            "69012     فروشگاه افق کوروش مشهد  محسن صفرزاده نيگجه   \n",
            "69013     فروشگاه افق کوروش مشهد  محسن صفرزاده نيگجه   \n",
            "69020              هايپر مي طوبي      داود اوستاديان   \n",
            "69024            هايپر استار ارم       مهدي عطايي فر   \n",
            "\n",
            "                                            ProductName  \\\n",
            "8113      رب گوجه فرنگي قرمز آسان بازشو روژين  800 گرمي   \n",
            "8114                  رب گوجه فرنگي روژين شيشه 700 گرمي   \n",
            "8115   کنسرو گوجه فرنگي درسته پوست کنده (پيل) 380 گرمي    \n",
            "8116                           سس بطري کچاپ ساده460گرمي   \n",
            "8147   کنسرو گوجه فرنگي درسته پوست کنده (پيل) 380 گرمي    \n",
            "...                                                 ...   \n",
            "69011     رب گوجه فرنگي قرمز آسان بازشو روژين  800 گرمي   \n",
            "69012                 رب گوجه فرنگي روژين شيشه 680 گرمي   \n",
            "69013     رب گوجه فرنگي قرمز آسان بازشو روژين  800 گرمي   \n",
            "69020                    کنسرو ذرت شيرين 400 گرمي روژين   \n",
            "69024                     کنسرو نخود سبز 400 گرمي روژين   \n",
            "\n",
            "                 ProductGroup  Month  Year    NetSales  UnitPrice  Units  \\\n",
            "8113      رب گوجه فرنگي روژين    آذر  1399     8380860     158700     60   \n",
            "8114      رب گوجه فرنگي روژين    آذر  1399     5158116     149000     36   \n",
            "8115   کنسرو گوجه فرنگي روژين    آذر  1399     4073471      52500     96   \n",
            "8116                   سس گرم    آذر  1399      453600     106000      6   \n",
            "8147   کنسرو گوجه فرنگي روژين    آذر  1399      424301      52500     12   \n",
            "...                       ...    ...   ...         ...        ...    ...   \n",
            "69011     رب گوجه فرنگي روژين  مرداد  1403  1439288136     419373   3120   \n",
            "69012     رب گوجه فرنگي روژين  مرداد  1403   241074306     405849    540   \n",
            "69013     رب گوجه فرنگي روژين  مرداد  1403  1328573664     419373   2880   \n",
            "69020          کنسرو غيرگوشتي  مرداد  1403    61825104     390310    144   \n",
            "69024          کنسرو غيرگوشتي  مرداد  1403    39836148     301789    120   \n",
            "\n",
            "       Cartons  MonthNumeric StoreCode ProductGroupCode  \n",
            "8113         5             9       277                0  \n",
            "8114         3             9       277                0  \n",
            "8115         8             9       277                4  \n",
            "8116         1             9       277                2  \n",
            "8147         1             9       277                4  \n",
            "...        ...           ...       ...              ...  \n",
            "69011      260             5       181                0  \n",
            "69012       45             5       187                0  \n",
            "69013      240             5       187                0  \n",
            "69020       12             5       825                3  \n",
            "69024       10             5       776                3  \n",
            "\n",
            "[18590 rows x 17 columns]\n"
          ]
        }
      ]
    },
    {
      "cell_type": "code",
      "source": [
        "#Save the data to a dataframe and new csv file\n",
        "\n",
        "FilePath = '/content/drive/MyDrive/Colab Notebooks/Chain-5Years-Cleaned.csv'\n",
        "NewData.to_csv(FilePath, index=False)"
      ],
      "metadata": {
        "id": "96S-det8BMYp"
      },
      "execution_count": null,
      "outputs": []
    }
  ]
}